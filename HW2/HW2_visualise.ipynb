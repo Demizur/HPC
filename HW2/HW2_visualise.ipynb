{
  "nbformat": 4,
  "nbformat_minor": 0,
  "metadata": {
    "colab": {
      "name": "HW2_visualise.ipynb",
      "provenance": []
    },
    "kernelspec": {
      "name": "python3",
      "display_name": "Python 3"
    },
    "language_info": {
      "name": "python"
    }
  },
  "cells": [
    {
      "cell_type": "markdown",
      "source": [
        "## 1) Ping-Pong"
      ],
      "metadata": {
        "id": "KUXPDFVyJTvy"
      }
    },
    {
      "cell_type": "code",
      "execution_count": 72,
      "metadata": {
        "colab": {
          "base_uri": "https://localhost:8080/"
        },
        "id": "cJspuyE_I1Ol",
        "outputId": "2bc4caa9-91b8-4db5-b5e6-a8cc1a6b25b4"
      },
      "outputs": [
        {
          "output_type": "stream",
          "name": "stdout",
          "text": [
            "Overwriting pingpong_1.cpp\n"
          ]
        }
      ],
      "source": [
        "%%writefile pingpong_1.cpp\n",
        "\n",
        "#include <mpi.h>\n",
        "#include <stdio.h>\n",
        "#include <stdlib.h>\n",
        "#include \"time.h\"\n",
        "\n",
        "// function to pass the ball to different reciever\n",
        "bool ball_was_passed(int reciever, int* order, int iter_num){\n",
        "    for (int i = 0; i < iter_num; ++i) {\n",
        "        if (order[i] == reciever) return true;\n",
        "    }\n",
        "    return false;\n",
        "}\n",
        "\n",
        "int main(int argc, char ** argv){ \n",
        "    \n",
        "    int rank;\n",
        "    int size;\n",
        "    int iter_num = 0;\n",
        "\n",
        "    MPI_Status status;\n",
        "    MPI_Init(&argc, &argv);\n",
        "    MPI_Comm_size(MPI_COMM_WORLD, &size);\n",
        "    MPI_Comm_rank(MPI_COMM_WORLD, &rank);\n",
        "\n",
        "    srand(time(0));\n",
        "    char name = 'a' + rand() % 26;  // random names for processes\n",
        "\n",
        "    int *order = new int[size];   //opder of processes\n",
        "    char *names = new char[size]; //names of processes\n",
        "\n",
        "    int reciever = 0;\n",
        "    int N = size;   // make N = number of processes\n",
        "\n",
        "    if (rank == 0){ // start the play\n",
        "                       \n",
        "        order[rank] = rank;\n",
        "        names[rank] = name;\n",
        "        iter_num ++;\n",
        "        while(reciever == 0){  // choose different reciever, but not 0 process\n",
        "            reciever = rand() % size;\n",
        "        }\n",
        "        MPI_Ssend(&iter_num, 1, MPI_INT, reciever, 123, MPI_COMM_WORLD);\n",
        "        MPI_Ssend(order, size, MPI_INT, reciever, 456, MPI_COMM_WORLD);\n",
        "        MPI_Ssend(names, size, MPI_CHAR, reciever, 789, MPI_COMM_WORLD);\n",
        "    }\n",
        "    else {\n",
        "        MPI_Recv(&iter_num, 1, MPI_INT, MPI_ANY_SOURCE, 123, MPI_COMM_WORLD, &status);\n",
        "        MPI_Recv(order, size, MPI_INT, MPI_ANY_SOURCE, 456, MPI_COMM_WORLD, &status);\n",
        "        MPI_Recv(names, size, MPI_CHAR, MPI_ANY_SOURCE, 789, MPI_COMM_WORLD, &status);\n",
        "        std::cout << \"Rank \" << rank << \" got ball from rank \" << status.MPI_SOURCE << std::endl;\n",
        "\n",
        "        order[iter_num] = rank;\n",
        "        names[iter_num] = name;\n",
        "        iter_num ++;\n",
        "\n",
        "        if (iter_num < N){  // repeat sending N times\n",
        "            reciever = rand() % size;\n",
        "\n",
        "            while(ball_was_passed(reciever, order, iter_num)){  // to have different reciever\n",
        "                reciever = rand() % size;\n",
        "            }\n",
        "                \n",
        "            MPI_Ssend(&iter_num, 1, MPI_INT, reciever, 123, MPI_COMM_WORLD);\n",
        "            MPI_Ssend(order, iter_num, MPI_INT, reciever, 456, MPI_COMM_WORLD);\n",
        "            MPI_Ssend(names, iter_num, MPI_CHAR, reciever, 789, MPI_COMM_WORLD);\n",
        "        }\n",
        "        \n",
        "    }\n",
        "    MPI_Finalize();\n",
        "\n",
        "    return 0;\n",
        "}"
      ]
    },
    {
      "cell_type": "code",
      "source": [
        "!mpic++ pingpong_1.cpp -o pingpong_1"
      ],
      "metadata": {
        "id": "mQdw7WYbJAeo"
      },
      "execution_count": 2,
      "outputs": []
    },
    {
      "cell_type": "code",
      "source": [
        "!mpirun --allow-run-as-root -n 6 ./pingpong_1"
      ],
      "metadata": {
        "colab": {
          "base_uri": "https://localhost:8080/"
        },
        "id": "5wYGls8iJCIR",
        "outputId": "55c367c5-782a-45db-8412-5aa7840d56e4"
      },
      "execution_count": 8,
      "outputs": [
        {
          "output_type": "stream",
          "name": "stdout",
          "text": [
            "Rank 2 got ball from rank 0\n",
            "Rank 4 got ball from rank 2\n",
            "Rank 3 got ball from rank 4\n",
            "Rank 5 got ball from rank 3\n",
            "Rank 1 got ball from rank 5\n"
          ]
        }
      ]
    },
    {
      "cell_type": "markdown",
      "source": [
        "## 2) Cellular Automata 1-d"
      ],
      "metadata": {
        "id": "l1CjJmcOJY-d"
      }
    },
    {
      "cell_type": "code",
      "source": [
        "%%writefile cell_auto.cpp\n",
        "\n",
        "#include \"mpi.h\"\n",
        "#include <stdio.h>\n",
        "#include <random>\n",
        "#include <stdio.h>\n",
        "#include <iostream>\n",
        "#include <math.h>\n",
        "\n",
        "//Design a program in such a way that any kind of rule can be easily inputted into the computations\n",
        "int rule(int prev, int curr, int next) // rule 110\n",
        "{\n",
        "  int sum = prev + curr + next;\n",
        "  if (prev == 1){\n",
        "    if (sum == 2) return(1);\n",
        "    else return (0);\n",
        "  } else {\n",
        "      if (sum > 0 ) return(1);\n",
        "      else return(0);\n",
        "  }\n",
        "\n",
        "}\n",
        "\n",
        "// periodic boundary conditions\n",
        "void periodic(int * &Batch ,int * &New, int size, int rank, int N){\n",
        "  int part = N/size;\n",
        "  for (int i = 0; i < part; i++)\n",
        "  {\n",
        "    if (i == 0 && i != part-1 && (i + 1) != part-1)\n",
        "      New[i] = rule(Batch[part-1], Batch[i], Batch[i+1]);\n",
        "    else if (i == part-1 && i != 0 && (i - 1) != 0)\n",
        "      New[i] = rule(Batch[i-1], Batch[i], Batch[0]);\n",
        "    else if(i == 0 && (i + 1) == part-1)\n",
        "      New[i] = rule(Batch[part-1], Batch[i], Batch[part-1]);\n",
        "    else if(i == part-1 && i-1 == 0)\n",
        "      New[i] = rule(Batch[0], Batch[i], Batch[0]);\n",
        "    else if(i == 0 && i == part-1)\n",
        "      New[i] = rule(Batch[i], Batch[i], Batch[i]);\n",
        "    else\n",
        "      New[i] = rule(Batch[i-1],Batch[i],Batch[i+1]);\n",
        "  }\n",
        "}\n",
        "\n",
        "// constant boundary conditions\n",
        "void constant(int * &Batch ,int * &New, int size, int rank, int N){\n",
        "  int part = N/size;\n",
        "  for (int i = 0; i < part; i++)\n",
        "  {\n",
        "    if (i == 0 && i != part-1 && (i + 1) != part-1)\n",
        "      New[i] = rule(Batch[part-1], Batch[i], Batch[i+1]);\n",
        "    else if (i == part-1 && i != 0 && (i - 1) != 0)\n",
        "      New[i] = rule(Batch[i-1], Batch[i], Batch[0]);\n",
        "    else if(i == 0 && (i + 1) == part-1)\n",
        "      New[i] = rule(Batch[part-1], Batch[i], Batch[part-1]);\n",
        "    else if(i == part-1 && i-1 == 0)\n",
        "      New[i] = rule(Batch[0], Batch[i], Batch[0]);\n",
        "    else if(i == 0 && i == part-1)\n",
        "      New[i] = rule(Batch[i], Batch[i], Batch[i]);\n",
        "    else\n",
        "      New[i] = rule(Batch[i-1],Batch[i],Batch[i+1]);\n",
        "  }\n",
        "}\n",
        "\n",
        "void print (int * CellularAutomata, int N){\n",
        "  for (int i = 0; i < N; i++) printf(\"%d \", CellularAutomata[i]);\n",
        "  printf(\"\\n\");  \n",
        "}\n",
        "\n",
        "int main(int ac, char **av)\n",
        "{\n",
        "  int N = 8; \n",
        "  int size;\n",
        "  int rank;\n",
        " \n",
        "  int *CellularAutomata = new int[N];\n",
        "  int *Batch = new int[N];\n",
        "  int *New = new int[N];\n",
        "  int *Result = new int[N];\n",
        "  \n",
        "  MPI_Status status;\n",
        "  MPI_Init(&ac, &av);\n",
        "  MPI_Comm_rank(MPI_COMM_WORLD, &rank);\n",
        "  MPI_Comm_size(MPI_COMM_WORLD, &size);\n",
        "\n",
        "  double start = MPI_Wtime();\n",
        "  if (rank == 0)\n",
        "  {\n",
        "    // initialization\n",
        "    for (int i = 0; i < N; i++){\n",
        "      if (i % 3) CellularAutomata[i] = 0;\n",
        "      else CellularAutomata[i] = 1;\n",
        "      }\n",
        "    // end of initialization\n",
        "   \n",
        "    //printf(\"Initialize:\\n\");\n",
        "    //print(CellularAutomata, N);\n",
        "\n",
        "  }\n",
        "  MPI_Scatter(CellularAutomata, N/size, MPI_INT, Batch, N/size, MPI_INT, 0, MPI_COMM_WORLD);\n",
        "\n",
        "  MPI_Scatter(Result, N/size, MPI_INT, New, N/size, MPI_INT,  0, MPI_COMM_WORLD);\n",
        "\n",
        "  periodic(Batch , New, size, rank, N);\n",
        " \n",
        "  MPI_Barrier(MPI_COMM_WORLD);\n",
        "  MPI_Gather(New, N/size, MPI_INT, Result, N/size, MPI_INT, 0, MPI_COMM_WORLD);\n",
        "\n",
        "  if (rank == 0)\n",
        "  {\n",
        "    //printf(\"Result:\\n\");\n",
        "    //print(Result, N);\n",
        "  }\n",
        " \n",
        "  MPI_Finalize();\n",
        "  if (rank ==0){\n",
        "    double end = MPI_Wtime();\n",
        "    std::cout << (end-start);\n",
        "    }\n",
        " }"
      ],
      "metadata": {
        "colab": {
          "base_uri": "https://localhost:8080/"
        },
        "id": "EMXPVDEVJd9K",
        "outputId": "943294e3-8163-4230-8dc8-62fbb4fec8b7"
      },
      "execution_count": 71,
      "outputs": [
        {
          "output_type": "stream",
          "name": "stdout",
          "text": [
            "Overwriting cell_auto.cpp\n"
          ]
        }
      ]
    },
    {
      "cell_type": "code",
      "source": [
        "!mpic++ cell_auto.cpp -o cell_auto"
      ],
      "metadata": {
        "id": "oTh_0_oeJkZX"
      },
      "execution_count": 65,
      "outputs": []
    },
    {
      "cell_type": "code",
      "source": [
        "!mpirun --allow-run-as-root -n 4 ./cell_auto"
      ],
      "metadata": {
        "colab": {
          "base_uri": "https://localhost:8080/"
        },
        "id": "Q37f7J-hJl2V",
        "outputId": "7b63c92b-e64c-46f7-cb2b-87229a3ddaf2"
      },
      "execution_count": 50,
      "outputs": [
        {
          "output_type": "stream",
          "name": "stdout",
          "text": [
            "Initialize:\n",
            "1 0 0 1 0 0 1 0 \n",
            "Result:\n",
            "1 1 1 1 0 0 1 1 \n"
          ]
        }
      ]
    },
    {
      "cell_type": "code",
      "source": [
        "import matplotlib.pyplot as plt\n",
        "import numpy as np"
      ],
      "metadata": {
        "id": "uYTZqqZUeM6u"
      },
      "execution_count": 68,
      "outputs": []
    },
    {
      "cell_type": "code",
      "source": [
        "exe_time = []\n",
        "N_processes = np.arange(1,11)\n",
        "for i in N_processes:\n",
        "    add = !mpirun --allow-run-as-root -n {i} ./cell_auto\n",
        "    exe_time.append(float(add[0]))\n",
        "    print(f\"Process {i} with time {add[0]}\")"
      ],
      "metadata": {
        "colab": {
          "base_uri": "https://localhost:8080/"
        },
        "id": "GO4WOQVkfAIA",
        "outputId": "663fa2ac-5914-4377-fe65-a9a38dea39a1"
      },
      "execution_count": 69,
      "outputs": [
        {
          "output_type": "stream",
          "name": "stdout",
          "text": [
            "Process 1 with time 0.00170699\n",
            "Process 2 with time 0.00364131\n",
            "Process 3 with time 0.00611827\n",
            "Process 4 with time 0.0045883\n",
            "Process 5 with time 0.0104772\n",
            "Process 6 with time 0.0192908\n",
            "Process 7 with time 0.0190239\n",
            "Process 8 with time 0.0164648\n",
            "Process 9 with time 0.0263569\n",
            "Process 10 with time 0.0266281\n"
          ]
        }
      ]
    },
    {
      "cell_type": "code",
      "source": [
        "#Plot the speedup vs number of processors \n",
        "plt.plot(N_processes,  exe_time[0] / np.array(exe_time))\n",
        "plt.title('Speedup vs number of processes')\n",
        "plt.xlabel('Number of processes')\n",
        "plt.ylabel('Speedup')\n",
        "plt.grid(True)"
      ],
      "metadata": {
        "colab": {
          "base_uri": "https://localhost:8080/",
          "height": 295
        },
        "id": "P3Z3lV5RRvul",
        "outputId": "998f14f3-f536-44f4-d725-1102071fde26"
      },
      "execution_count": 70,
      "outputs": [
        {
          "output_type": "display_data",
          "data": {
            "text/plain": [
              "<Figure size 432x288 with 1 Axes>"
            ],
            "image/png": "[encoded data removed]"
          },
          "metadata": {
            "needs_background": "light"
          }
        }
      ]
    }
  ]
}